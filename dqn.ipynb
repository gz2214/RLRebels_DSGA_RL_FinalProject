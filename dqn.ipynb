{
 "cells": [
  {
   "cell_type": "code",
   "execution_count": 1,
   "metadata": {},
   "outputs": [],
   "source": [
    "import gymnasium as gym\n",
    "import torch\n",
    "import torch.nn as nn\n",
    "import torch.optim as optim\n",
    "import numpy as np\n",
    "import random\n",
    "from collections import deque\n",
    "import cv2\n",
    "from dqn import DQN, Agent\n",
    "\n",
    "device = torch.device(\"cuda\" if torch.cuda.is_available() else \"cpu\")"
   ]
  },
  {
   "cell_type": "code",
   "execution_count": 2,
   "metadata": {},
   "outputs": [
    {
     "name": "stderr",
     "output_type": "stream",
     "text": [
      "A.L.E: Arcade Learning Environment (version 0.8.1+53f58b7)\n",
      "[Powered by Stella]\n"
     ]
    },
    {
     "name": "stdout",
     "output_type": "stream",
     "text": [
      "episode: 0\n"
     ]
    },
    {
     "name": "stderr",
     "output_type": "stream",
     "text": [
      "/Users/kathleenainchoco/Documents/git/RLRebels_DSGA_RL_FinalProject/dqn.py:123: UserWarning: Creating a tensor from a list of numpy.ndarrays is extremely slow. Please consider converting the list to a single numpy.ndarray with numpy.array() before converting to a tensor. (Triggered internally at /Users/runner/work/pytorch/pytorch/pytorch/torch/csrc/utils/tensor_new.cpp:278.)\n",
      "  batch_state = torch.tensor(state, dtype=torch.float32, device=self.device)\n",
      "/Users/kathleenainchoco/opt/anaconda3/envs/env-rl2/lib/python3.9/site-packages/torch/nn/modules/loss.py:535: UserWarning: Using a target size (torch.Size([1, 1])) that is different to the input size (torch.Size([1, 6])). This will likely lead to incorrect results due to broadcasting. Please ensure they have the same size.\n",
      "  return F.mse_loss(input, target, reduction=self.reduction)\n"
     ]
    },
    {
     "name": "stdout",
     "output_type": "stream",
     "text": [
      "Episode 1, Reward: -21.0\n",
      "episode: 1\n",
      "Episode 2, Reward: -21.0\n",
      "episode: 2\n",
      "Episode 3, Reward: -20.0\n",
      "episode: 3\n",
      "Episode 4, Reward: -19.0\n"
     ]
    }
   ],
   "source": [
    "# Setup environment\n",
    "env = gym.make(\"ALE/Pong-v5\", obs_type=\"grayscale\")\n",
    "num_actions = env.action_space.n\n",
    "num_observations = env.observation_space.shape[0] \n",
    "device = torch.device(\"cuda\" if torch.cuda.is_available() else \"cpu\")\n",
    "agent = Agent(env, device)\n",
    "\n",
    "num_episodes = 4\n",
    "batch_size = 1\n",
    "target_update_freq = 2\n",
    "\n",
    "min_loss = np.inf\n",
    "\n",
    "for episode in range(num_episodes):\n",
    "    print(\"episode:\", episode)\n",
    "    state = env.reset()[0]\n",
    "    # state = preProcess(state)  # Preprocess the initial state\n",
    "    done = False\n",
    "    episode_reward = 0\n",
    "    \n",
    "    while not done:\n",
    "        # print(\"while not done:\", state.shape)\n",
    "        action = agent.select_action(state)\n",
    "        # print(\"action:\", action)\n",
    "        next_state, reward, done, truncated, info = env.step(action)\n",
    "        # next_state = preProcess(next_state)  # Preprocess the next state\n",
    "        agent.store_transition(state, action, reward, next_state, done)\n",
    "        # print(\"next state:\", next_state.shape)\n",
    "        episode_reward += reward\n",
    "        state = next_state\n",
    "        # print(\"update to new state\", state.shape)\n",
    "        \n",
    "        cur_loss, _ = agent.train(batch_size, target_update_freq)\n",
    "          \n",
    "        if episode % target_update_freq == 0:\n",
    "            agent.update_target_model()\n",
    "\n",
    "        if cur_loss < min_loss:\n",
    "            torch.save(agent.model.state_dict(), 'cache_model.pth')\n",
    "    \n",
    "    if episode % 2 == 0:\n",
    "        torch.save(agent.model, 'pretrained_model.pth')\n",
    "\n",
    "\n",
    "\n",
    "    print(f\"Episode {episode + 1}, Reward: {episode_reward}\")"
   ]
  }
 ],
 "metadata": {
  "kernelspec": {
   "display_name": "env-rl2",
   "language": "python",
   "name": "python3"
  },
  "language_info": {
   "codemirror_mode": {
    "name": "ipython",
    "version": 3
   },
   "file_extension": ".py",
   "mimetype": "text/x-python",
   "name": "python",
   "nbconvert_exporter": "python",
   "pygments_lexer": "ipython3",
   "version": "3.9.19"
  }
 },
 "nbformat": 4,
 "nbformat_minor": 2
}
